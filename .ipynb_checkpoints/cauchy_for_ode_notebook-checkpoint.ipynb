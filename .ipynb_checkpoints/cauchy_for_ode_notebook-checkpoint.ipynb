{
 "cells": [
  {
   "cell_type": "markdown",
   "metadata": {},
   "source": [
    "# Calculating the Laguerre polynomials\n",
    "First we calculate the Laguerre polynomials which can be defined by the following formula:\n",
    "$$\n",
    "L_n(x)=\\sum_{k=0}^{n} \\binom{n}{k} \\frac{(-1)^k}{k!}x^k.\n",
    "$$\n",
    "We will calculate these polynomials with the following recurrent formula:\n",
    "$$\n",
    "L_{k+1}(x)=\\frac{(2k+1-x)L_k(x)-kL_{k-1}(x)}{k+1},\n",
    "$$\n",
    "where $L_0(x)=1$ and $L_1(x)=1-x$."
   ]
  },
  {
   "cell_type": "markdown",
   "metadata": {},
   "source": [
    "Here we use a special decorator for caching:"
   ]
  },
  {
   "cell_type": "code",
   "execution_count": 2,
   "metadata": {},
   "outputs": [],
   "source": [
    "def cached(func):\n",
    "    \"\"\"\n",
    "    A decorator which caches values for pure functions\n",
    "    \"\"\"\n",
    "    cache = {}\n",
    "\n",
    "    def wrapper(*args):\n",
    "        if args in cache:\n",
    "            return cache[args]\n",
    "        result = func(*args)\n",
    "        cache[args] = result\n",
    "        return result\n",
    "\n",
    "    return wrapper"
   ]
  },
  {
   "cell_type": "markdown",
   "metadata": {},
   "source": [
    "The function that calculates the Laguerre polynomials:"
   ]
  },
  {
   "cell_type": "code",
   "execution_count": 3,
   "metadata": {},
   "outputs": [],
   "source": [
    "@cached\n",
    "def laguerre(k, alpha, x):\n",
    "    if k == 0:\n",
    "        return 1\n",
    "    elif k == 1:\n",
    "        return -x + alpha + 1\n",
    "\n",
    "    _a = (2 * k - 1 + alpha - x) / k\n",
    "    _b = (k + alpha - 1) / k\n",
    "\n",
    "    return _a * laguerre(k - 1, alpha, x) - _b * laguerre(k - 2, alpha, x)\n"
   ]
  },
  {
   "cell_type": "code",
   "execution_count": null,
   "metadata": {},
   "outputs": [],
   "source": [
    "laguerre()"
   ]
  }
 ],
 "metadata": {
  "kernelspec": {
   "display_name": "Python 3",
   "language": "python",
   "name": "python3"
  },
  "language_info": {
   "codemirror_mode": {
    "name": "ipython",
    "version": 3
   },
   "file_extension": ".py",
   "mimetype": "text/x-python",
   "name": "python",
   "nbconvert_exporter": "python",
   "pygments_lexer": "ipython3",
   "version": "3.8.0"
  }
 },
 "nbformat": 4,
 "nbformat_minor": 2
}
